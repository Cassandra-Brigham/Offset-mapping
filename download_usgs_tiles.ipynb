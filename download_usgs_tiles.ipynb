{
 "cells": [
  {
   "cell_type": "code",
   "execution_count": 51,
   "id": "eb38e3df",
   "metadata": {},
   "outputs": [],
   "source": [
    "import os\n",
    "import json\n",
    "from urllib.parse import urlparse, urljoin\n",
    "import requests\n",
    "import geopandas as gpd\n",
    "from shapely.geometry import box, shape\n",
    "from tqdm import tqdm"
   ]
  },
  {
   "cell_type": "markdown",
   "id": "14713f7b",
   "metadata": {},
   "source": [
    "# Get list of datasets from OT API query"
   ]
  },
  {
   "cell_type": "code",
   "execution_count": 11,
   "id": "0669af15",
   "metadata": {},
   "outputs": [],
   "source": [
    "from differencing_functions import DataAccess, OpenTopographyQuery, GetDEMs"
   ]
  },
  {
   "cell_type": "markdown",
   "id": "f5247c7b",
   "metadata": {},
   "source": [
    "## Load API key"
   ]
  },
  {
   "cell_type": "code",
   "execution_count": 8,
   "id": "89bc3ac4",
   "metadata": {},
   "outputs": [
    {
     "name": "stdout",
     "output_type": "stream",
     "text": [
      "API Key loaded successfully!\n"
     ]
    }
   ],
   "source": [
    "# After setting the environment variable, access your API key in this notebook.\n",
    "API_Key = os.getenv('OPENTOPO_ADMIN_ENTERPRISE_API_KEY')\n",
    "\n",
    "# If your API key is not set, you can set it here.\n",
    "# API_Key = \"your_api_key_here\"\n",
    "\n",
    "if API_Key is not None:\n",
    "    print(\"API Key loaded successfully!\")\n",
    "else:\n",
    "    print(\"Failed to load API Key.\")"
   ]
  },
  {
   "cell_type": "markdown",
   "id": "c9bb147e",
   "metadata": {},
   "source": [
    "<h3 id=\"Option-3-Upload-File\">Define bounds using an uploaded file</h3>"
   ]
  },
  {
   "cell_type": "code",
   "execution_count": 9,
   "id": "1edf1aa8",
   "metadata": {},
   "outputs": [
    {
     "data": {
      "text/plain": [
       "{'south': 32.79130944963459,\n",
       " 'west': -116.93032727942875,\n",
       " 'north': 33.72062768978766,\n",
       " 'east': -115.57803503695636,\n",
       " 'polygon_wkt': ['-116.93032727942875, 33.67457519663469, -116.87254408082845, 33.72062768978766, -116.80774049361317, 33.70715146646199, -116.49830336466015, 33.53446917230551, -116.42053906000177, 33.480435035977344, -116.16294480082101, 33.33031374927006, -115.81948578857995, 33.156879269002346, -115.68501834510822, 33.048308147401876, -115.57803503695636, 32.86279561564286, -115.57938537217136, 32.83670416059145, -115.64825246813542, 32.81968386172708, -115.69821487108975, 32.79130944963459, -116.18568588369826, 33.121025783963546, -116.89931103811193, 33.63786514990443, -116.93032727942875, 33.67457519663469']}"
      ]
     },
     "execution_count": 9,
     "metadata": {},
     "output_type": "execute_result"
    }
   ],
   "source": [
    "shapefile_path = \"/Users/cassandrabrigham/ASU Dropbox/Cassandra Brigham/Mac/Documents/POSTDOC/Offset mapping - SCEC/GIS/san_jacinto.shp\"\n",
    "\n",
    "da = DataAccess()\n",
    "\n",
    "da.define_bounds_from_file(shapefile_path, target_crs = 'EPSG:4326')"
   ]
  },
  {
   "cell_type": "markdown",
   "id": "7810f90e",
   "metadata": {},
   "source": [
    "<h3 id=\"Use-OT-Catalog - Single DEM\"> Use OT Catalog To Find Datasets</h3>\n"
   ]
  },
  {
   "cell_type": "code",
   "execution_count": 18,
   "id": "0dab4f09",
   "metadata": {},
   "outputs": [
    {
     "data": {
      "text/html": [
       "<div>\n",
       "<style scoped>\n",
       "    .dataframe tbody tr th:only-of-type {\n",
       "        vertical-align: middle;\n",
       "    }\n",
       "\n",
       "    .dataframe tbody tr th {\n",
       "        vertical-align: top;\n",
       "    }\n",
       "\n",
       "    .dataframe thead th {\n",
       "        text-align: right;\n",
       "    }\n",
       "</style>\n",
       "<table border=\"1\" class=\"dataframe\">\n",
       "  <thead>\n",
       "    <tr style=\"text-align: right;\">\n",
       "      <th></th>\n",
       "      <th>Name</th>\n",
       "      <th>ID type</th>\n",
       "      <th>Data Source</th>\n",
       "      <th>Property ID</th>\n",
       "      <th>Horizontal EPSG</th>\n",
       "      <th>Vertical Coordinates</th>\n",
       "      <th>Clean Name</th>\n",
       "    </tr>\n",
       "  </thead>\n",
       "  <tbody>\n",
       "    <tr>\n",
       "      <th>0</th>\n",
       "      <td>B4 Project - Southern San Andreas and San Jaci...</td>\n",
       "      <td>opentopoID</td>\n",
       "      <td>ot</td>\n",
       "      <td>OTLAS.032018.32611.1</td>\n",
       "      <td>32611</td>\n",
       "      <td>Ellipsoid</td>\n",
       "      <td>B4_Project_Southern_San_Andreas_and_San_Jacint...</td>\n",
       "    </tr>\n",
       "    <tr>\n",
       "      <th>1</th>\n",
       "      <td>2010 Salton Sea Lidar Collection</td>\n",
       "      <td>opentopoID</td>\n",
       "      <td>ot</td>\n",
       "      <td>OTLAS.032012.26911.2</td>\n",
       "      <td>26911</td>\n",
       "      <td>NAVD88 (GEOID 09)</td>\n",
       "      <td>2010_Salton_Sea_Lidar_Collection</td>\n",
       "    </tr>\n",
       "    <tr>\n",
       "      <th>2</th>\n",
       "      <td>B4 Project - Southern San Andreas and San Jaci...</td>\n",
       "      <td>opentopoID</td>\n",
       "      <td>ot</td>\n",
       "      <td>OTLAS.032006.32611.1</td>\n",
       "      <td>32611</td>\n",
       "      <td>Ellipsoid</td>\n",
       "      <td>B4_Project_Southern_San_Andreas_and_San_Jacint...</td>\n",
       "    </tr>\n",
       "    <tr>\n",
       "      <th>3</th>\n",
       "      <td>CA SaltonSea EarthMRI 3 D21</td>\n",
       "      <td>USGS_3DEP_ID</td>\n",
       "      <td>usgs</td>\n",
       "      <td>CA_SaltonSea_EarthMRI_3_D21</td>\n",
       "      <td>3857</td>\n",
       "      <td>NAVD88 height - Geoid18 (Meters)</td>\n",
       "      <td>CA_SaltonSea_EarthMRI_3_D21</td>\n",
       "    </tr>\n",
       "    <tr>\n",
       "      <th>4</th>\n",
       "      <td>CA SaltonSea EarthMRI 1 2021</td>\n",
       "      <td>USGS_3DEP_ID</td>\n",
       "      <td>usgs</td>\n",
       "      <td>CA_SaltonSea_EarthMRI_1_2021</td>\n",
       "      <td>3857</td>\n",
       "      <td>NAVD88 height - Geoid18 (Meters)</td>\n",
       "      <td>CA_SaltonSea_EarthMRI_1_2021</td>\n",
       "    </tr>\n",
       "    <tr>\n",
       "      <th>5</th>\n",
       "      <td>USGS LPC CA SoCal Wildfires B1 2018 LAS 2019</td>\n",
       "      <td>USGS_3DEP_ID</td>\n",
       "      <td>usgs</td>\n",
       "      <td>USGS_LPC_CA_SoCal_Wildfires_B1_2018_LAS_2019</td>\n",
       "      <td>3857</td>\n",
       "      <td>NAVD88 height - Geoid12B (metre)</td>\n",
       "      <td>USGS_LPC_CA_SoCal_Wildfires_B1_2018_LAS_2019</td>\n",
       "    </tr>\n",
       "    <tr>\n",
       "      <th>6</th>\n",
       "      <td>USGS LPC CA SoCAL Wildfires TL 2018 LAS 2019</td>\n",
       "      <td>USGS_3DEP_ID</td>\n",
       "      <td>usgs</td>\n",
       "      <td>USGS_LPC_CA_SoCAL_Wildfires_TL_2018_LAS_2019</td>\n",
       "      <td>3857</td>\n",
       "      <td>NAVD88 height - Geoid12B (metre)</td>\n",
       "      <td>USGS_LPC_CA_SoCAL_Wildfires_TL_2018_LAS_2019</td>\n",
       "    </tr>\n",
       "    <tr>\n",
       "      <th>7</th>\n",
       "      <td>CA SaltonSea 2010</td>\n",
       "      <td>USGS_3DEP_ID</td>\n",
       "      <td>usgs</td>\n",
       "      <td>CA_SaltonSea_2010</td>\n",
       "      <td>3857</td>\n",
       "      <td>NAVD88 - Geoid09 (Meters)</td>\n",
       "      <td>CA_SaltonSea_2010</td>\n",
       "    </tr>\n",
       "    <tr>\n",
       "      <th>8</th>\n",
       "      <td>USGS LPC CA E SanDiegoCo 2016 LAS 2017</td>\n",
       "      <td>USGS_3DEP_ID</td>\n",
       "      <td>usgs</td>\n",
       "      <td>USGS_LPC_CA_E_SanDiegoCo_2016_LAS_2017</td>\n",
       "      <td>3857</td>\n",
       "      <td>NAVD88 height (ftUS)</td>\n",
       "      <td>USGS_LPC_CA_E_SanDiegoCo_2016_LAS_2017</td>\n",
       "    </tr>\n",
       "  </tbody>\n",
       "</table>\n",
       "</div>"
      ],
      "text/plain": [
       "                                                Name       ID type  \\\n",
       "0  B4 Project - Southern San Andreas and San Jaci...    opentopoID   \n",
       "1                   2010 Salton Sea Lidar Collection    opentopoID   \n",
       "2  B4 Project - Southern San Andreas and San Jaci...    opentopoID   \n",
       "3                        CA SaltonSea EarthMRI 3 D21  USGS_3DEP_ID   \n",
       "4                       CA SaltonSea EarthMRI 1 2021  USGS_3DEP_ID   \n",
       "5       USGS LPC CA SoCal Wildfires B1 2018 LAS 2019  USGS_3DEP_ID   \n",
       "6       USGS LPC CA SoCAL Wildfires TL 2018 LAS 2019  USGS_3DEP_ID   \n",
       "7                                  CA SaltonSea 2010  USGS_3DEP_ID   \n",
       "8             USGS LPC CA E SanDiegoCo 2016 LAS 2017  USGS_3DEP_ID   \n",
       "\n",
       "  Data Source                                   Property ID Horizontal EPSG  \\\n",
       "0          ot                          OTLAS.032018.32611.1           32611   \n",
       "1          ot                          OTLAS.032012.26911.2           26911   \n",
       "2          ot                          OTLAS.032006.32611.1           32611   \n",
       "3        usgs                   CA_SaltonSea_EarthMRI_3_D21            3857   \n",
       "4        usgs                  CA_SaltonSea_EarthMRI_1_2021            3857   \n",
       "5        usgs  USGS_LPC_CA_SoCal_Wildfires_B1_2018_LAS_2019            3857   \n",
       "6        usgs  USGS_LPC_CA_SoCAL_Wildfires_TL_2018_LAS_2019            3857   \n",
       "7        usgs                             CA_SaltonSea_2010            3857   \n",
       "8        usgs        USGS_LPC_CA_E_SanDiegoCo_2016_LAS_2017            3857   \n",
       "\n",
       "               Vertical Coordinates  \\\n",
       "0                         Ellipsoid   \n",
       "1                 NAVD88 (GEOID 09)   \n",
       "2                         Ellipsoid   \n",
       "3  NAVD88 height - Geoid18 (Meters)   \n",
       "4  NAVD88 height - Geoid18 (Meters)   \n",
       "5  NAVD88 height - Geoid12B (metre)   \n",
       "6  NAVD88 height - Geoid12B (metre)   \n",
       "7         NAVD88 - Geoid09 (Meters)   \n",
       "8              NAVD88 height (ftUS)   \n",
       "\n",
       "                                          Clean Name  \n",
       "0  B4_Project_Southern_San_Andreas_and_San_Jacint...  \n",
       "1                   2010_Salton_Sea_Lidar_Collection  \n",
       "2  B4_Project_Southern_San_Andreas_and_San_Jacint...  \n",
       "3                        CA_SaltonSea_EarthMRI_3_D21  \n",
       "4                       CA_SaltonSea_EarthMRI_1_2021  \n",
       "5       USGS_LPC_CA_SoCal_Wildfires_B1_2018_LAS_2019  \n",
       "6       USGS_LPC_CA_SoCAL_Wildfires_TL_2018_LAS_2019  \n",
       "7                                  CA_SaltonSea_2010  \n",
       "8             USGS_LPC_CA_E_SanDiegoCo_2016_LAS_2017  "
      ]
     },
     "execution_count": 18,
     "metadata": {},
     "output_type": "execute_result"
    }
   ],
   "source": [
    "# Build a DataAccess and call the wrapper:\n",
    "da = DataAccess()\n",
    "da.define_bounds_from_file(shapefile_path, target_crs=\"EPSG:4326\")\n",
    "\n",
    "otq, catalog_df = GetDEMs.query_single_dem(\n",
    "    da,\n",
    "    product_format=\"PointCloud\",\n",
    "    include_federated=True,\n",
    "    detail=False,\n",
    "    save_as=\"results.json\",   \n",
    ")\n",
    "\n",
    "catalog_df"
   ]
  },
  {
   "cell_type": "code",
   "execution_count": 19,
   "id": "bfd6d3fe",
   "metadata": {},
   "outputs": [
    {
     "name": "stdout",
     "output_type": "stream",
     "text": [
      "Selected dataset: CA SaltonSea EarthMRI 3 D21\n"
     ]
    }
   ],
   "source": [
    "selected_dataset_index = 3\n",
    "print(f\"Selected dataset: {catalog_df['Name'][selected_dataset_index]}\")"
   ]
  },
  {
   "cell_type": "markdown",
   "id": "ddf04339",
   "metadata": {},
   "source": [
    "## Parameters"
   ]
  },
  {
   "cell_type": "code",
   "execution_count": 70,
   "id": "f0cdc279",
   "metadata": {},
   "outputs": [],
   "source": [
    "SHAPEFILE    = shapefile_path\n",
    "CATALOG_URL  = \"https://usgs-lidar-stac.s3-us-west-2.amazonaws.com/ept/catalog.json\"\n",
    "PREFIX       = catalog_df['Property ID'][selected_dataset_index]\n",
    "BUCKET_DOMAIN = \"s3-us-west-2.amazonaws.com\"\n",
    "BUCKET       = \"usgs-lidar-public\"\n",
    "EPT_BASE      = f\"https://{BUCKET_DOMAIN}/{BUCKET}/{PREFIX}/\"\n",
    "OUTPUT_LIST  = \"nodes_to_download.txt\"\n",
    "TARGET_EPSG    = 3857"
   ]
  },
  {
   "cell_type": "markdown",
   "id": "4c301915",
   "metadata": {},
   "source": [
    "## 1. Build nodes_to_download.txt by traversing ept-hierarchy"
   ]
  },
  {
   "cell_type": "markdown",
   "id": "efdf9a8f",
   "metadata": {},
   "source": [
    "### Load & union polygon (WGS84)"
   ]
  },
  {
   "cell_type": "code",
   "execution_count": 71,
   "id": "dfe7d033",
   "metadata": {},
   "outputs": [],
   "source": [
    "gdf = gpd.read_file(SHAPEFILE)\n",
    "if gdf.crs.to_epsg() != 4326:\n",
    "    gdf = gdf.to_crs(epsg=4326)\n",
    "# project into dataset CRS\n",
    "gdf_proj = gdf.to_crs(epsg=TARGET_EPSG)\n",
    "region   = gdf_proj.geometry.union_all()"
   ]
  },
  {
   "cell_type": "markdown",
   "id": "5ada680e",
   "metadata": {},
   "source": [
    "### Read top‐level ept.json for bounds"
   ]
  },
  {
   "cell_type": "code",
   "execution_count": 77,
   "id": "5bfcfa0c",
   "metadata": {},
   "outputs": [
    {
     "name": "stdout",
     "output_type": "stream",
     "text": [
      "Dataset bounds (EPSG:3857): (-13003569, 3844743, -12816559, 4031753)\n",
      "Region proj bounds:             (-13016624.491036834, 3867636.4310987936, -12866088.007201115, 3991350.555281892)\n",
      "Root intersects region? True\n"
     ]
    }
   ],
   "source": [
    "# 2️⃣ Fetch ept.json bounds (in EPSG:3857)\n",
    "resp = requests.get(urljoin(EPT_BASE, \"ept.json\"))\n",
    "resp.raise_for_status()\n",
    "meta = resp.json()\n",
    "minx, miny, _, maxx, maxy, _ = meta[\"bounds\"]\n",
    "\n",
    "# Optional sanity check\n",
    "print(f\"Dataset bounds (EPSG:{TARGET_EPSG}):\", (minx, miny, maxx, maxy))\n",
    "print(f\"Region proj bounds:            \", region.bounds)\n",
    "print(\"Root intersects region?\", region.intersects(box(minx, miny, maxx, maxy)))"
   ]
  },
  {
   "cell_type": "markdown",
   "id": "799fd58e",
   "metadata": {},
   "source": [
    "### Fetch the root hierarchy mapping"
   ]
  },
  {
   "cell_type": "code",
   "execution_count": 79,
   "id": "fef1300f",
   "metadata": {},
   "outputs": [
    {
     "name": "stdout",
     "output_type": "stream",
     "text": [
      "Total nodes in hierarchy mapping: 28972\n"
     ]
    }
   ],
   "source": [
    "r = requests.get(urljoin(EPT_BASE, \"ept-hierarchy/0-0-0-0.json\"))\n",
    "r.raise_for_status()\n",
    "mapping = r.json()  # {nodeID: pointCount or -1 if split}\n",
    "node_ids = list(mapping.keys())\n",
    "print(f\"Total nodes in hierarchy mapping: {len(node_ids)}\")"
   ]
  },
  {
   "cell_type": "markdown",
   "id": "7a2e7cbd",
   "metadata": {},
   "source": [
    "### Identify leaf IDs (no deeper descendent in mapping)"
   ]
  },
  {
   "cell_type": "code",
   "execution_count": 80,
   "id": "6dafc548",
   "metadata": {},
   "outputs": [
    {
     "name": "stdout",
     "output_type": "stream",
     "text": [
      "Detected 21549 leaf nodes\n"
     ]
    }
   ],
   "source": [
    "nodes = []\n",
    "for nid in node_ids:\n",
    "    d, x, y, z = map(int, nid.split(\"-\"))\n",
    "    nodes.append({\"id\": nid, \"d\": d, \"x\": x, \"y\": y, \"z\": z})\n",
    "\n",
    "leaf_nodes = []\n",
    "for node in nodes:\n",
    "    nd, nx, ny, nz = node['d'], node['x'], node['y'], node['z']\n",
    "    # look for any child at depth nd+1 that maps back to this node\n",
    "    has_child = any(\n",
    "        (other['d'] == nd + 1) and\n",
    "        (other['x'] // 2 == nx) and\n",
    "        (other['y'] // 2 == ny) and\n",
    "        (other['z'] // 2 == nz)\n",
    "        for other in nodes\n",
    "    )\n",
    "    if not has_child:\n",
    "        leaf_nodes.append(node)\n",
    "\n",
    "print(f\"Detected {len(leaf_nodes)} leaf nodes\")"
   ]
  },
  {
   "cell_type": "markdown",
   "id": "0ca73b45",
   "metadata": {},
   "source": [
    "### Spatial filter leaves by intersection"
   ]
  },
  {
   "cell_type": "code",
   "execution_count": 81,
   "id": "f167e995",
   "metadata": {},
   "outputs": [
    {
     "name": "stderr",
     "output_type": "stream",
     "text": [
      "Filtering leaves: 100%|██████████| 21549/21549 [00:00<00:00, 76129.04it/s]"
     ]
    },
    {
     "name": "stdout",
     "output_type": "stream",
     "text": [
      "5425 leaf tiles intersect your region\n"
     ]
    },
    {
     "name": "stderr",
     "output_type": "stream",
     "text": [
      "\n"
     ]
    }
   ],
   "source": [
    "to_download = []\n",
    "for node in tqdm(leaf_nodes, desc=\"Filtering leaves\"):\n",
    "    nd, nx, ny = node['d'], node['x'], node['y']\n",
    "    # compute 2D footprint\n",
    "    tile_w = (maxx - minx) / (2 ** nd)\n",
    "    tile_h = (maxy - miny) / (2 ** nd)\n",
    "    tx0 = minx + nx * tile_w; ty0 = miny + ny * tile_h\n",
    "    tx1 = tx0 + tile_w;   ty1 = ty0 + tile_h\n",
    "    if region.intersects(box(tx0, ty0, tx1, ty1)):\n",
    "        to_download.append(f\"{PREFIX}/ept-data/{node['id']}.laz\")\n",
    "\n",
    "print(f\"{len(to_download)} leaf tiles intersect your region\")"
   ]
  },
  {
   "cell_type": "markdown",
   "id": "35ff8545",
   "metadata": {},
   "source": [
    "### Write out full S3 URIs"
   ]
  },
  {
   "cell_type": "code",
   "execution_count": 83,
   "id": "94cc36ef",
   "metadata": {},
   "outputs": [
    {
     "name": "stdout",
     "output_type": "stream",
     "text": [
      "Wrote 5425 lines to nodes_to_download.txt\n"
     ]
    }
   ],
   "source": [
    "os.makedirs(os.path.dirname(OUTPUT_LIST) or \".\", exist_ok=True)\n",
    "with open(OUTPUT_LIST, \"w\") as f:\n",
    "    for key in sorted(set(to_download)):\n",
    "        f.write(f\"s3://{BUCKET}/{key}\\n\")\n",
    "print(f\"Wrote {len(to_download)} lines to {OUTPUT_LIST}\")"
   ]
  },
  {
   "cell_type": "markdown",
   "id": "90e82f0e",
   "metadata": {},
   "source": []
  }
 ],
 "metadata": {
  "kernelspec": {
   "display_name": "3dep-aws-download",
   "language": "python",
   "name": "python3"
  },
  "language_info": {
   "codemirror_mode": {
    "name": "ipython",
    "version": 3
   },
   "file_extension": ".py",
   "mimetype": "text/x-python",
   "name": "python",
   "nbconvert_exporter": "python",
   "pygments_lexer": "ipython3",
   "version": "3.12.11"
  }
 },
 "nbformat": 4,
 "nbformat_minor": 5
}
