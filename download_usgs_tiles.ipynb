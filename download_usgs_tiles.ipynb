{
 "cells": [
  {
   "cell_type": "code",
   "execution_count": 1,
   "id": "eb38e3df",
   "metadata": {},
   "outputs": [],
   "source": [
    "import os\n",
    "import json\n",
    "from urllib.parse import urlparse\n",
    "\n",
    "import boto3\n",
    "import requests\n",
    "import geopandas as gpd\n",
    "from shapely.geometry import box, shape\n",
    "from tqdm import tqdm\n",
    "\n",
    "\n"
   ]
  },
  {
   "cell_type": "markdown",
   "id": "14713f7b",
   "metadata": {},
   "source": [
    "# Get list of datasets from OT API query"
   ]
  },
  {
   "cell_type": "code",
   "execution_count": 11,
   "id": "0669af15",
   "metadata": {},
   "outputs": [],
   "source": [
    "from differencing_functions import DataAccess, OpenTopographyQuery, GetDEMs"
   ]
  },
  {
   "cell_type": "markdown",
   "id": "f5247c7b",
   "metadata": {},
   "source": [
    "## Load API key"
   ]
  },
  {
   "cell_type": "code",
   "execution_count": 8,
   "id": "89bc3ac4",
   "metadata": {},
   "outputs": [
    {
     "name": "stdout",
     "output_type": "stream",
     "text": [
      "API Key loaded successfully!\n"
     ]
    }
   ],
   "source": [
    "# After setting the environment variable, access your API key in this notebook.\n",
    "API_Key = os.getenv('OPENTOPO_ADMIN_ENTERPRISE_API_KEY')\n",
    "\n",
    "# If your API key is not set, you can set it here.\n",
    "# API_Key = \"your_api_key_here\"\n",
    "\n",
    "if API_Key is not None:\n",
    "    print(\"API Key loaded successfully!\")\n",
    "else:\n",
    "    print(\"Failed to load API Key.\")"
   ]
  },
  {
   "cell_type": "markdown",
   "id": "c9bb147e",
   "metadata": {},
   "source": [
    "<h3 id=\"Option-3-Upload-File\">Define bounds using an uploaded file</h3>"
   ]
  },
  {
   "cell_type": "code",
   "execution_count": 9,
   "id": "1edf1aa8",
   "metadata": {},
   "outputs": [
    {
     "data": {
      "text/plain": [
       "{'south': 32.79130944963459,\n",
       " 'west': -116.93032727942875,\n",
       " 'north': 33.72062768978766,\n",
       " 'east': -115.57803503695636,\n",
       " 'polygon_wkt': ['-116.93032727942875, 33.67457519663469, -116.87254408082845, 33.72062768978766, -116.80774049361317, 33.70715146646199, -116.49830336466015, 33.53446917230551, -116.42053906000177, 33.480435035977344, -116.16294480082101, 33.33031374927006, -115.81948578857995, 33.156879269002346, -115.68501834510822, 33.048308147401876, -115.57803503695636, 32.86279561564286, -115.57938537217136, 32.83670416059145, -115.64825246813542, 32.81968386172708, -115.69821487108975, 32.79130944963459, -116.18568588369826, 33.121025783963546, -116.89931103811193, 33.63786514990443, -116.93032727942875, 33.67457519663469']}"
      ]
     },
     "execution_count": 9,
     "metadata": {},
     "output_type": "execute_result"
    }
   ],
   "source": [
    "shapefile_path = \"/Users/cassandrabrigham/ASU Dropbox/Cassandra Brigham/Mac/Documents/POSTDOC/Offset mapping - SCEC/GIS/san_jacinto.shp\"\n",
    "\n",
    "da = DataAccess()\n",
    "\n",
    "da.define_bounds_from_file(shapefile_path, target_crs = 'EPSG:4326')"
   ]
  },
  {
   "cell_type": "markdown",
   "id": "7810f90e",
   "metadata": {},
   "source": [
    "<h3 id=\"Use-OT-Catalog - Single DEM\"> Use OT Catalog To Find Datasets</h3>\n"
   ]
  },
  {
   "cell_type": "code",
   "execution_count": 18,
   "id": "0dab4f09",
   "metadata": {},
   "outputs": [
    {
     "data": {
      "text/html": [
       "<div>\n",
       "<style scoped>\n",
       "    .dataframe tbody tr th:only-of-type {\n",
       "        vertical-align: middle;\n",
       "    }\n",
       "\n",
       "    .dataframe tbody tr th {\n",
       "        vertical-align: top;\n",
       "    }\n",
       "\n",
       "    .dataframe thead th {\n",
       "        text-align: right;\n",
       "    }\n",
       "</style>\n",
       "<table border=\"1\" class=\"dataframe\">\n",
       "  <thead>\n",
       "    <tr style=\"text-align: right;\">\n",
       "      <th></th>\n",
       "      <th>Name</th>\n",
       "      <th>ID type</th>\n",
       "      <th>Data Source</th>\n",
       "      <th>Property ID</th>\n",
       "      <th>Horizontal EPSG</th>\n",
       "      <th>Vertical Coordinates</th>\n",
       "      <th>Clean Name</th>\n",
       "    </tr>\n",
       "  </thead>\n",
       "  <tbody>\n",
       "    <tr>\n",
       "      <th>0</th>\n",
       "      <td>B4 Project - Southern San Andreas and San Jaci...</td>\n",
       "      <td>opentopoID</td>\n",
       "      <td>ot</td>\n",
       "      <td>OTLAS.032018.32611.1</td>\n",
       "      <td>32611</td>\n",
       "      <td>Ellipsoid</td>\n",
       "      <td>B4_Project_Southern_San_Andreas_and_San_Jacint...</td>\n",
       "    </tr>\n",
       "    <tr>\n",
       "      <th>1</th>\n",
       "      <td>2010 Salton Sea Lidar Collection</td>\n",
       "      <td>opentopoID</td>\n",
       "      <td>ot</td>\n",
       "      <td>OTLAS.032012.26911.2</td>\n",
       "      <td>26911</td>\n",
       "      <td>NAVD88 (GEOID 09)</td>\n",
       "      <td>2010_Salton_Sea_Lidar_Collection</td>\n",
       "    </tr>\n",
       "    <tr>\n",
       "      <th>2</th>\n",
       "      <td>B4 Project - Southern San Andreas and San Jaci...</td>\n",
       "      <td>opentopoID</td>\n",
       "      <td>ot</td>\n",
       "      <td>OTLAS.032006.32611.1</td>\n",
       "      <td>32611</td>\n",
       "      <td>Ellipsoid</td>\n",
       "      <td>B4_Project_Southern_San_Andreas_and_San_Jacint...</td>\n",
       "    </tr>\n",
       "    <tr>\n",
       "      <th>3</th>\n",
       "      <td>CA SaltonSea EarthMRI 3 D21</td>\n",
       "      <td>USGS_3DEP_ID</td>\n",
       "      <td>usgs</td>\n",
       "      <td>CA_SaltonSea_EarthMRI_3_D21</td>\n",
       "      <td>3857</td>\n",
       "      <td>NAVD88 height - Geoid18 (Meters)</td>\n",
       "      <td>CA_SaltonSea_EarthMRI_3_D21</td>\n",
       "    </tr>\n",
       "    <tr>\n",
       "      <th>4</th>\n",
       "      <td>CA SaltonSea EarthMRI 1 2021</td>\n",
       "      <td>USGS_3DEP_ID</td>\n",
       "      <td>usgs</td>\n",
       "      <td>CA_SaltonSea_EarthMRI_1_2021</td>\n",
       "      <td>3857</td>\n",
       "      <td>NAVD88 height - Geoid18 (Meters)</td>\n",
       "      <td>CA_SaltonSea_EarthMRI_1_2021</td>\n",
       "    </tr>\n",
       "    <tr>\n",
       "      <th>5</th>\n",
       "      <td>USGS LPC CA SoCal Wildfires B1 2018 LAS 2019</td>\n",
       "      <td>USGS_3DEP_ID</td>\n",
       "      <td>usgs</td>\n",
       "      <td>USGS_LPC_CA_SoCal_Wildfires_B1_2018_LAS_2019</td>\n",
       "      <td>3857</td>\n",
       "      <td>NAVD88 height - Geoid12B (metre)</td>\n",
       "      <td>USGS_LPC_CA_SoCal_Wildfires_B1_2018_LAS_2019</td>\n",
       "    </tr>\n",
       "    <tr>\n",
       "      <th>6</th>\n",
       "      <td>USGS LPC CA SoCAL Wildfires TL 2018 LAS 2019</td>\n",
       "      <td>USGS_3DEP_ID</td>\n",
       "      <td>usgs</td>\n",
       "      <td>USGS_LPC_CA_SoCAL_Wildfires_TL_2018_LAS_2019</td>\n",
       "      <td>3857</td>\n",
       "      <td>NAVD88 height - Geoid12B (metre)</td>\n",
       "      <td>USGS_LPC_CA_SoCAL_Wildfires_TL_2018_LAS_2019</td>\n",
       "    </tr>\n",
       "    <tr>\n",
       "      <th>7</th>\n",
       "      <td>CA SaltonSea 2010</td>\n",
       "      <td>USGS_3DEP_ID</td>\n",
       "      <td>usgs</td>\n",
       "      <td>CA_SaltonSea_2010</td>\n",
       "      <td>3857</td>\n",
       "      <td>NAVD88 - Geoid09 (Meters)</td>\n",
       "      <td>CA_SaltonSea_2010</td>\n",
       "    </tr>\n",
       "    <tr>\n",
       "      <th>8</th>\n",
       "      <td>USGS LPC CA E SanDiegoCo 2016 LAS 2017</td>\n",
       "      <td>USGS_3DEP_ID</td>\n",
       "      <td>usgs</td>\n",
       "      <td>USGS_LPC_CA_E_SanDiegoCo_2016_LAS_2017</td>\n",
       "      <td>3857</td>\n",
       "      <td>NAVD88 height (ftUS)</td>\n",
       "      <td>USGS_LPC_CA_E_SanDiegoCo_2016_LAS_2017</td>\n",
       "    </tr>\n",
       "  </tbody>\n",
       "</table>\n",
       "</div>"
      ],
      "text/plain": [
       "                                                Name       ID type  \\\n",
       "0  B4 Project - Southern San Andreas and San Jaci...    opentopoID   \n",
       "1                   2010 Salton Sea Lidar Collection    opentopoID   \n",
       "2  B4 Project - Southern San Andreas and San Jaci...    opentopoID   \n",
       "3                        CA SaltonSea EarthMRI 3 D21  USGS_3DEP_ID   \n",
       "4                       CA SaltonSea EarthMRI 1 2021  USGS_3DEP_ID   \n",
       "5       USGS LPC CA SoCal Wildfires B1 2018 LAS 2019  USGS_3DEP_ID   \n",
       "6       USGS LPC CA SoCAL Wildfires TL 2018 LAS 2019  USGS_3DEP_ID   \n",
       "7                                  CA SaltonSea 2010  USGS_3DEP_ID   \n",
       "8             USGS LPC CA E SanDiegoCo 2016 LAS 2017  USGS_3DEP_ID   \n",
       "\n",
       "  Data Source                                   Property ID Horizontal EPSG  \\\n",
       "0          ot                          OTLAS.032018.32611.1           32611   \n",
       "1          ot                          OTLAS.032012.26911.2           26911   \n",
       "2          ot                          OTLAS.032006.32611.1           32611   \n",
       "3        usgs                   CA_SaltonSea_EarthMRI_3_D21            3857   \n",
       "4        usgs                  CA_SaltonSea_EarthMRI_1_2021            3857   \n",
       "5        usgs  USGS_LPC_CA_SoCal_Wildfires_B1_2018_LAS_2019            3857   \n",
       "6        usgs  USGS_LPC_CA_SoCAL_Wildfires_TL_2018_LAS_2019            3857   \n",
       "7        usgs                             CA_SaltonSea_2010            3857   \n",
       "8        usgs        USGS_LPC_CA_E_SanDiegoCo_2016_LAS_2017            3857   \n",
       "\n",
       "               Vertical Coordinates  \\\n",
       "0                         Ellipsoid   \n",
       "1                 NAVD88 (GEOID 09)   \n",
       "2                         Ellipsoid   \n",
       "3  NAVD88 height - Geoid18 (Meters)   \n",
       "4  NAVD88 height - Geoid18 (Meters)   \n",
       "5  NAVD88 height - Geoid12B (metre)   \n",
       "6  NAVD88 height - Geoid12B (metre)   \n",
       "7         NAVD88 - Geoid09 (Meters)   \n",
       "8              NAVD88 height (ftUS)   \n",
       "\n",
       "                                          Clean Name  \n",
       "0  B4_Project_Southern_San_Andreas_and_San_Jacint...  \n",
       "1                   2010_Salton_Sea_Lidar_Collection  \n",
       "2  B4_Project_Southern_San_Andreas_and_San_Jacint...  \n",
       "3                        CA_SaltonSea_EarthMRI_3_D21  \n",
       "4                       CA_SaltonSea_EarthMRI_1_2021  \n",
       "5       USGS_LPC_CA_SoCal_Wildfires_B1_2018_LAS_2019  \n",
       "6       USGS_LPC_CA_SoCAL_Wildfires_TL_2018_LAS_2019  \n",
       "7                                  CA_SaltonSea_2010  \n",
       "8             USGS_LPC_CA_E_SanDiegoCo_2016_LAS_2017  "
      ]
     },
     "execution_count": 18,
     "metadata": {},
     "output_type": "execute_result"
    }
   ],
   "source": [
    "# Build a DataAccess and call the wrapper:\n",
    "da = DataAccess()\n",
    "da.define_bounds_from_file(shapefile_path, target_crs=\"EPSG:4326\")\n",
    "\n",
    "otq, catalog_df = GetDEMs.query_single_dem(\n",
    "    da,\n",
    "    product_format=\"PointCloud\",\n",
    "    include_federated=True,\n",
    "    detail=False,\n",
    "    save_as=\"results.json\",   \n",
    ")\n",
    "\n",
    "catalog_df"
   ]
  },
  {
   "cell_type": "code",
   "execution_count": null,
   "id": "af141263",
   "metadata": {},
   "outputs": [],
   "source": [
    "CA_SaltonSea_EarthMRI_3_D21"
   ]
  },
  {
   "cell_type": "code",
   "execution_count": 19,
   "id": "bfd6d3fe",
   "metadata": {},
   "outputs": [
    {
     "name": "stdout",
     "output_type": "stream",
     "text": [
      "Selected dataset: CA SaltonSea EarthMRI 3 D21\n"
     ]
    }
   ],
   "source": [
    "selected_dataset_index = 3\n",
    "print(f\"Selected dataset: {catalog_df['Name'][selected_dataset_index]}\")"
   ]
  },
  {
   "cell_type": "markdown",
   "id": "ddf04339",
   "metadata": {},
   "source": [
    "## Parameters"
   ]
  },
  {
   "cell_type": "code",
   "execution_count": 42,
   "id": "f0cdc279",
   "metadata": {},
   "outputs": [],
   "source": [
    "SHAPEFILE    = shapefile_path\n",
    "CATALOG_URL  = \"https://usgs-lidar-stac.s3-us-west-2.amazonaws.com/ept/catalog.json\"\n",
    "PREFIX       = catalog_df['Property ID'][selected_dataset_index]\n",
    "BUCKET       = \"usgs-lidar-public\"\n",
    "OUTPUT_LIST  = \"nodes_to_download.txt\""
   ]
  },
  {
   "cell_type": "code",
   "execution_count": 43,
   "id": "49ace157",
   "metadata": {},
   "outputs": [
    {
     "name": "stdout",
     "output_type": "stream",
     "text": [
      "PDAL pipeline JSON written to pipeline.json\n"
     ]
    }
   ],
   "source": [
    "output_json = \"pipeline.json\"\n",
    "\n",
    "# Build the pipeline dict\n",
    "pipeline = [\n",
    "    {\n",
    "        \"type\": \"readers.ept\",\n",
    "        \"filename\": f\"https://s3-us-west-2.amazonaws.com/usgs-lidar-public/{PREFIX}/ept.json\"\n",
    "    },\n",
    "    {\n",
    "        \"type\": \"filters.crop\",\n",
    "        \"mask\": shapefile_path\n",
    "    },\n",
    "    {\n",
    "        \"type\": \"writers.las\",\n",
    "        \"filename\": f\"{PREFIX}.laz\"\n",
    "    }\n",
    "]\n",
    "\n",
    "# Write it out\n",
    "with open(output_json, \"w\") as f:\n",
    "    json.dump(pipeline, f, indent=2)\n",
    "\n",
    "print(f\"PDAL pipeline JSON written to {output_json}\")"
   ]
  },
  {
   "cell_type": "code",
   "execution_count": null,
   "id": "19f2572b",
   "metadata": {},
   "outputs": [],
   "source": []
  },
  {
   "cell_type": "markdown",
   "id": "9f4f2547",
   "metadata": {},
   "source": [
    "## 1. Load region polygon (WGS84)"
   ]
  },
  {
   "cell_type": "code",
   "execution_count": 26,
   "id": "48b119de",
   "metadata": {},
   "outputs": [],
   "source": [
    "gdf    = gpd.read_file(SHAPEFILE).to_crs(epsg=4326)\n",
    "region = gdf.geometry.union_all()"
   ]
  },
  {
   "cell_type": "markdown",
   "id": "705f9e4a",
   "metadata": {},
   "source": [
    "## 2. Fetch and parse ept.json"
   ]
  },
  {
   "cell_type": "code",
   "execution_count": null,
   "id": "db5dd9a3",
   "metadata": {},
   "outputs": [
    {
     "ename": "KeyError",
     "evalue": "'keySize'",
     "output_type": "error",
     "traceback": [
      "\u001b[31m---------------------------------------------------------------------------\u001b[39m",
      "\u001b[31mKeyError\u001b[39m                                  Traceback (most recent call last)",
      "\u001b[36mCell\u001b[39m\u001b[36m \u001b[39m\u001b[32mIn[27]\u001b[39m\u001b[32m, line 7\u001b[39m\n\u001b[32m      4\u001b[39m meta    = resp.json()\n\u001b[32m      6\u001b[39m minx, miny, minz, maxx, maxy, maxz = meta[\u001b[33m\"\u001b[39m\u001b[33mbounds\u001b[39m\u001b[33m\"\u001b[39m]\n\u001b[32m----> \u001b[39m\u001b[32m7\u001b[39m depth_limit    = \u001b[43mmeta\u001b[49m\u001b[43m[\u001b[49m\u001b[33;43m\"\u001b[39;49m\u001b[33;43mkeySize\u001b[39;49m\u001b[33;43m\"\u001b[39;49m\u001b[43m]\u001b[49m         \u001b[38;5;66;03m# maximum depth\u001b[39;00m\n\u001b[32m      8\u001b[39m hierarchy_type = meta[\u001b[33m\"\u001b[39m\u001b[33mhierarchyType\u001b[39m\u001b[33m\"\u001b[39m]   \u001b[38;5;66;03m# usually \"json\"\u001b[39;00m\n\u001b[32m      9\u001b[39m node_size      = meta[\u001b[33m\"\u001b[39m\u001b[33mnodeSize\u001b[39m\u001b[33m\"\u001b[39m]        \u001b[38;5;66;03m# points per leaf\u001b[39;00m\n",
      "\u001b[31mKeyError\u001b[39m: 'keySize'"
     ]
    }
   ],
   "source": [
    "ept_url = f\"https://s3-us-west-2.amazonaws.com/usgs-lidar-public/CA_SaltonSea_EarthMRI_3_D21/ept-hierarchy/0-0-0-0.json\"\n",
    "resp    = requests.get(ept_url)\n",
    "resp.raise_for_status()\n",
    "meta    = resp.json()\n",
    "\n",
    "minx, miny, minz, maxx, maxy, maxz = meta[\"bounds\"]\n",
    "depth_limit    = meta[\"keySize\"]         # maximum depth\n",
    "hierarchy_type = meta[\"hierarchyType\"]   # usually \"json\"\n",
    "node_size      = meta[\"nodeSize\"]        # points per leaf\n",
    "\n",
    "# Compute tile XY size at each depth:\n",
    "# width_d = (maxx - minx) / 2**d ; height_d analogously\n",
    "# We'll ignore Z for footprint filtering."
   ]
  },
  {
   "cell_type": "code",
   "execution_count": 36,
   "id": "3b991033",
   "metadata": {},
   "outputs": [],
   "source": [
    "import boto3\n",
    "from botocore import UNSIGNED\n",
    "from botocore.config import Config\n",
    "\n",
    "# create an unsigned (public-data) S3 client\n",
    "s3 = boto3.client(\n",
    "    \"s3\",\n",
    "    config=Config(signature_version=UNSIGNED),\n",
    "    region_name=\"us-west-2\"\n",
    ")"
   ]
  },
  {
   "cell_type": "code",
   "execution_count": 39,
   "id": "22f5c5d0",
   "metadata": {},
   "outputs": [
    {
     "ename": "KeyboardInterrupt",
     "evalue": "",
     "output_type": "error",
     "traceback": [
      "\u001b[31m---------------------------------------------------------------------------\u001b[39m",
      "\u001b[31mKeyboardInterrupt\u001b[39m                         Traceback (most recent call last)",
      "\u001b[36mCell\u001b[39m\u001b[36m \u001b[39m\u001b[32mIn[39]\u001b[39m\u001b[32m, line 6\u001b[39m\n\u001b[32m      4\u001b[39m \u001b[38;5;66;03m# paginator walks through every page of the S3 “list_objects_v2” result\u001b[39;00m\n\u001b[32m      5\u001b[39m pfx = \u001b[33mf\u001b[39m\u001b[33m\"\u001b[39m\u001b[38;5;132;01m{\u001b[39;00mPREFIX\u001b[38;5;132;01m}\u001b[39;00m\u001b[33m/ept-data/\u001b[39m\u001b[33m\"\u001b[39m\n\u001b[32m----> \u001b[39m\u001b[32m6\u001b[39m \u001b[38;5;28;43;01mfor\u001b[39;49;00m\u001b[43m \u001b[49m\u001b[43mpage\u001b[49m\u001b[43m \u001b[49m\u001b[38;5;129;43;01min\u001b[39;49;00m\u001b[43m \u001b[49m\u001b[43ms3\u001b[49m\u001b[43m.\u001b[49m\u001b[43mget_paginator\u001b[49m\u001b[43m(\u001b[49m\u001b[33;43m\"\u001b[39;49m\u001b[33;43mlist_objects_v2\u001b[39;49m\u001b[33;43m\"\u001b[39;49m\u001b[43m)\u001b[49m\u001b[43m.\u001b[49m\u001b[43mpaginate\u001b[49m\u001b[43m(\u001b[49m\n\u001b[32m      7\u001b[39m \u001b[43m    \u001b[49m\u001b[43mBucket\u001b[49m\u001b[43m=\u001b[49m\u001b[43mBUCKET\u001b[49m\u001b[43m,\u001b[49m\n\u001b[32m      8\u001b[39m \u001b[43m    \u001b[49m\u001b[43mPrefix\u001b[49m\u001b[43m=\u001b[49m\u001b[43mpfx\u001b[49m\n\u001b[32m      9\u001b[39m \u001b[43m)\u001b[49m\u001b[43m:\u001b[49m\n\u001b[32m     10\u001b[39m \u001b[43m    \u001b[49m\u001b[38;5;28;43;01mfor\u001b[39;49;00m\u001b[43m \u001b[49m\u001b[43mobj\u001b[49m\u001b[43m \u001b[49m\u001b[38;5;129;43;01min\u001b[39;49;00m\u001b[43m \u001b[49m\u001b[43mpage\u001b[49m\u001b[43m.\u001b[49m\u001b[43mget\u001b[49m\u001b[43m(\u001b[49m\u001b[33;43m\"\u001b[39;49m\u001b[33;43mContents\u001b[39;49m\u001b[33;43m\"\u001b[39;49m\u001b[43m,\u001b[49m\u001b[43m \u001b[49m\u001b[43m[\u001b[49m\u001b[43m]\u001b[49m\u001b[43m)\u001b[49m\u001b[43m:\u001b[49m\n\u001b[32m     11\u001b[39m \u001b[43m        \u001b[49m\u001b[43mk\u001b[49m\u001b[43m \u001b[49m\u001b[43m=\u001b[49m\u001b[43m \u001b[49m\u001b[43mobj\u001b[49m\u001b[43m[\u001b[49m\u001b[33;43m\"\u001b[39;49m\u001b[33;43mKey\u001b[39;49m\u001b[33;43m\"\u001b[39;49m\u001b[43m]\u001b[49m\u001b[43m           \u001b[49m\u001b[38;5;66;43;03m# e.g. \"CA_SaltonSea_EarthMRI_3_D21/ept-data/4-12-34-8.laz\"\u001b[39;49;00m\n",
      "\u001b[36mFile \u001b[39m\u001b[32m/opt/anaconda3/envs/3dep-aws-download/lib/python3.12/site-packages/botocore/paginate.py:272\u001b[39m, in \u001b[36mPageIterator.__iter__\u001b[39m\u001b[34m(self)\u001b[39m\n\u001b[32m    270\u001b[39m \u001b[38;5;28mself\u001b[39m._inject_starting_params(current_kwargs)\n\u001b[32m    271\u001b[39m \u001b[38;5;28;01mwhile\u001b[39;00m \u001b[38;5;28;01mTrue\u001b[39;00m:\n\u001b[32m--> \u001b[39m\u001b[32m272\u001b[39m     response = \u001b[38;5;28;43mself\u001b[39;49m\u001b[43m.\u001b[49m\u001b[43m_make_request\u001b[49m\u001b[43m(\u001b[49m\u001b[43mcurrent_kwargs\u001b[49m\u001b[43m)\u001b[49m\n\u001b[32m    273\u001b[39m     parsed = \u001b[38;5;28mself\u001b[39m._extract_parsed_response(response)\n\u001b[32m    274\u001b[39m     \u001b[38;5;28;01mif\u001b[39;00m first_request:\n\u001b[32m    275\u001b[39m         \u001b[38;5;66;03m# The first request is handled differently.  We could\u001b[39;00m\n\u001b[32m    276\u001b[39m         \u001b[38;5;66;03m# possibly have a resume/starting token that tells us where\u001b[39;00m\n\u001b[32m    277\u001b[39m         \u001b[38;5;66;03m# to index into the retrieved page.\u001b[39;00m\n",
      "\u001b[36mFile \u001b[39m\u001b[32m/opt/anaconda3/envs/3dep-aws-download/lib/python3.12/site-packages/botocore/context.py:123\u001b[39m, in \u001b[36mwith_current_context.<locals>.decorator.<locals>.wrapper\u001b[39m\u001b[34m(*args, **kwargs)\u001b[39m\n\u001b[32m    121\u001b[39m \u001b[38;5;28;01mif\u001b[39;00m hook:\n\u001b[32m    122\u001b[39m     hook()\n\u001b[32m--> \u001b[39m\u001b[32m123\u001b[39m \u001b[38;5;28;01mreturn\u001b[39;00m \u001b[43mfunc\u001b[49m\u001b[43m(\u001b[49m\u001b[43m*\u001b[49m\u001b[43margs\u001b[49m\u001b[43m,\u001b[49m\u001b[43m \u001b[49m\u001b[43m*\u001b[49m\u001b[43m*\u001b[49m\u001b[43mkwargs\u001b[49m\u001b[43m)\u001b[49m\n",
      "\u001b[36mFile \u001b[39m\u001b[32m/opt/anaconda3/envs/3dep-aws-download/lib/python3.12/site-packages/botocore/paginate.py:360\u001b[39m, in \u001b[36mPageIterator._make_request\u001b[39m\u001b[34m(self, current_kwargs)\u001b[39m\n\u001b[32m    358\u001b[39m \u001b[38;5;129m@with_current_context\u001b[39m(partial(register_feature_id, \u001b[33m'\u001b[39m\u001b[33mPAGINATOR\u001b[39m\u001b[33m'\u001b[39m))\n\u001b[32m    359\u001b[39m \u001b[38;5;28;01mdef\u001b[39;00m\u001b[38;5;250m \u001b[39m\u001b[34m_make_request\u001b[39m(\u001b[38;5;28mself\u001b[39m, current_kwargs):\n\u001b[32m--> \u001b[39m\u001b[32m360\u001b[39m     \u001b[38;5;28;01mreturn\u001b[39;00m \u001b[38;5;28;43mself\u001b[39;49m\u001b[43m.\u001b[49m\u001b[43m_method\u001b[49m\u001b[43m(\u001b[49m\u001b[43m*\u001b[49m\u001b[43m*\u001b[49m\u001b[43mcurrent_kwargs\u001b[49m\u001b[43m)\u001b[49m\n",
      "\u001b[36mFile \u001b[39m\u001b[32m/opt/anaconda3/envs/3dep-aws-download/lib/python3.12/site-packages/botocore/client.py:601\u001b[39m, in \u001b[36mClientCreator._create_api_method.<locals>._api_call\u001b[39m\u001b[34m(self, *args, **kwargs)\u001b[39m\n\u001b[32m    597\u001b[39m     \u001b[38;5;28;01mraise\u001b[39;00m \u001b[38;5;167;01mTypeError\u001b[39;00m(\n\u001b[32m    598\u001b[39m         \u001b[33mf\u001b[39m\u001b[33m\"\u001b[39m\u001b[38;5;132;01m{\u001b[39;00mpy_operation_name\u001b[38;5;132;01m}\u001b[39;00m\u001b[33m() only accepts keyword arguments.\u001b[39m\u001b[33m\"\u001b[39m\n\u001b[32m    599\u001b[39m     )\n\u001b[32m    600\u001b[39m \u001b[38;5;66;03m# The \"self\" in this scope is referring to the BaseClient.\u001b[39;00m\n\u001b[32m--> \u001b[39m\u001b[32m601\u001b[39m \u001b[38;5;28;01mreturn\u001b[39;00m \u001b[38;5;28;43mself\u001b[39;49m\u001b[43m.\u001b[49m\u001b[43m_make_api_call\u001b[49m\u001b[43m(\u001b[49m\u001b[43moperation_name\u001b[49m\u001b[43m,\u001b[49m\u001b[43m \u001b[49m\u001b[43mkwargs\u001b[49m\u001b[43m)\u001b[49m\n",
      "\u001b[36mFile \u001b[39m\u001b[32m/opt/anaconda3/envs/3dep-aws-download/lib/python3.12/site-packages/botocore/context.py:123\u001b[39m, in \u001b[36mwith_current_context.<locals>.decorator.<locals>.wrapper\u001b[39m\u001b[34m(*args, **kwargs)\u001b[39m\n\u001b[32m    121\u001b[39m \u001b[38;5;28;01mif\u001b[39;00m hook:\n\u001b[32m    122\u001b[39m     hook()\n\u001b[32m--> \u001b[39m\u001b[32m123\u001b[39m \u001b[38;5;28;01mreturn\u001b[39;00m \u001b[43mfunc\u001b[49m\u001b[43m(\u001b[49m\u001b[43m*\u001b[49m\u001b[43margs\u001b[49m\u001b[43m,\u001b[49m\u001b[43m \u001b[49m\u001b[43m*\u001b[49m\u001b[43m*\u001b[49m\u001b[43mkwargs\u001b[49m\u001b[43m)\u001b[49m\n",
      "\u001b[36mFile \u001b[39m\u001b[32m/opt/anaconda3/envs/3dep-aws-download/lib/python3.12/site-packages/botocore/client.py:1056\u001b[39m, in \u001b[36mBaseClient._make_api_call\u001b[39m\u001b[34m(self, operation_name, api_params)\u001b[39m\n\u001b[32m   1052\u001b[39m     maybe_compress_request(\n\u001b[32m   1053\u001b[39m         \u001b[38;5;28mself\u001b[39m.meta.config, request_dict, operation_model\n\u001b[32m   1054\u001b[39m     )\n\u001b[32m   1055\u001b[39m     apply_request_checksum(request_dict)\n\u001b[32m-> \u001b[39m\u001b[32m1056\u001b[39m     http, parsed_response = \u001b[38;5;28;43mself\u001b[39;49m\u001b[43m.\u001b[49m\u001b[43m_make_request\u001b[49m\u001b[43m(\u001b[49m\n\u001b[32m   1057\u001b[39m \u001b[43m        \u001b[49m\u001b[43moperation_model\u001b[49m\u001b[43m,\u001b[49m\u001b[43m \u001b[49m\u001b[43mrequest_dict\u001b[49m\u001b[43m,\u001b[49m\u001b[43m \u001b[49m\u001b[43mrequest_context\u001b[49m\n\u001b[32m   1058\u001b[39m \u001b[43m    \u001b[49m\u001b[43m)\u001b[49m\n\u001b[32m   1060\u001b[39m \u001b[38;5;28mself\u001b[39m.meta.events.emit(\n\u001b[32m   1061\u001b[39m     \u001b[33mf\u001b[39m\u001b[33m'\u001b[39m\u001b[33mafter-call.\u001b[39m\u001b[38;5;132;01m{\u001b[39;00mservice_id\u001b[38;5;132;01m}\u001b[39;00m\u001b[33m.\u001b[39m\u001b[38;5;132;01m{\u001b[39;00moperation_name\u001b[38;5;132;01m}\u001b[39;00m\u001b[33m'\u001b[39m,\n\u001b[32m   1062\u001b[39m     http_response=http,\n\u001b[32m   (...)\u001b[39m\u001b[32m   1065\u001b[39m     context=request_context,\n\u001b[32m   1066\u001b[39m )\n\u001b[32m   1068\u001b[39m \u001b[38;5;28;01mif\u001b[39;00m http.status_code >= \u001b[32m300\u001b[39m:\n",
      "\u001b[36mFile \u001b[39m\u001b[32m/opt/anaconda3/envs/3dep-aws-download/lib/python3.12/site-packages/botocore/client.py:1080\u001b[39m, in \u001b[36mBaseClient._make_request\u001b[39m\u001b[34m(self, operation_model, request_dict, request_context)\u001b[39m\n\u001b[32m   1078\u001b[39m \u001b[38;5;28;01mdef\u001b[39;00m\u001b[38;5;250m \u001b[39m\u001b[34m_make_request\u001b[39m(\u001b[38;5;28mself\u001b[39m, operation_model, request_dict, request_context):\n\u001b[32m   1079\u001b[39m     \u001b[38;5;28;01mtry\u001b[39;00m:\n\u001b[32m-> \u001b[39m\u001b[32m1080\u001b[39m         \u001b[38;5;28;01mreturn\u001b[39;00m \u001b[38;5;28;43mself\u001b[39;49m\u001b[43m.\u001b[49m\u001b[43m_endpoint\u001b[49m\u001b[43m.\u001b[49m\u001b[43mmake_request\u001b[49m\u001b[43m(\u001b[49m\u001b[43moperation_model\u001b[49m\u001b[43m,\u001b[49m\u001b[43m \u001b[49m\u001b[43mrequest_dict\u001b[49m\u001b[43m)\u001b[49m\n\u001b[32m   1081\u001b[39m     \u001b[38;5;28;01mexcept\u001b[39;00m \u001b[38;5;167;01mException\u001b[39;00m \u001b[38;5;28;01mas\u001b[39;00m e:\n\u001b[32m   1082\u001b[39m         \u001b[38;5;28mself\u001b[39m.meta.events.emit(\n\u001b[32m   1083\u001b[39m             \u001b[33mf\u001b[39m\u001b[33m'\u001b[39m\u001b[33mafter-call-error.\u001b[39m\u001b[38;5;132;01m{\u001b[39;00m\u001b[38;5;28mself\u001b[39m._service_model.service_id.hyphenize()\u001b[38;5;132;01m}\u001b[39;00m\u001b[33m.\u001b[39m\u001b[38;5;132;01m{\u001b[39;00moperation_model.name\u001b[38;5;132;01m}\u001b[39;00m\u001b[33m'\u001b[39m,\n\u001b[32m   1084\u001b[39m             exception=e,\n\u001b[32m   1085\u001b[39m             context=request_context,\n\u001b[32m   1086\u001b[39m         )\n",
      "\u001b[36mFile \u001b[39m\u001b[32m/opt/anaconda3/envs/3dep-aws-download/lib/python3.12/site-packages/botocore/endpoint.py:118\u001b[39m, in \u001b[36mEndpoint.make_request\u001b[39m\u001b[34m(self, operation_model, request_dict)\u001b[39m\n\u001b[32m    112\u001b[39m \u001b[38;5;28;01mdef\u001b[39;00m\u001b[38;5;250m \u001b[39m\u001b[34mmake_request\u001b[39m(\u001b[38;5;28mself\u001b[39m, operation_model, request_dict):\n\u001b[32m    113\u001b[39m     logger.debug(\n\u001b[32m    114\u001b[39m         \u001b[33m\"\u001b[39m\u001b[33mMaking request for \u001b[39m\u001b[38;5;132;01m%s\u001b[39;00m\u001b[33m with params: \u001b[39m\u001b[38;5;132;01m%s\u001b[39;00m\u001b[33m\"\u001b[39m,\n\u001b[32m    115\u001b[39m         operation_model,\n\u001b[32m    116\u001b[39m         request_dict,\n\u001b[32m    117\u001b[39m     )\n\u001b[32m--> \u001b[39m\u001b[32m118\u001b[39m     \u001b[38;5;28;01mreturn\u001b[39;00m \u001b[38;5;28;43mself\u001b[39;49m\u001b[43m.\u001b[49m\u001b[43m_send_request\u001b[49m\u001b[43m(\u001b[49m\u001b[43mrequest_dict\u001b[49m\u001b[43m,\u001b[49m\u001b[43m \u001b[49m\u001b[43moperation_model\u001b[49m\u001b[43m)\u001b[49m\n",
      "\u001b[36mFile \u001b[39m\u001b[32m/opt/anaconda3/envs/3dep-aws-download/lib/python3.12/site-packages/botocore/endpoint.py:196\u001b[39m, in \u001b[36mEndpoint._send_request\u001b[39m\u001b[34m(self, request_dict, operation_model)\u001b[39m\n\u001b[32m    194\u001b[39m \u001b[38;5;28mself\u001b[39m._update_retries_context(context, attempts)\n\u001b[32m    195\u001b[39m request = \u001b[38;5;28mself\u001b[39m.create_request(request_dict, operation_model)\n\u001b[32m--> \u001b[39m\u001b[32m196\u001b[39m success_response, exception = \u001b[38;5;28;43mself\u001b[39;49m\u001b[43m.\u001b[49m\u001b[43m_get_response\u001b[49m\u001b[43m(\u001b[49m\n\u001b[32m    197\u001b[39m \u001b[43m    \u001b[49m\u001b[43mrequest\u001b[49m\u001b[43m,\u001b[49m\u001b[43m \u001b[49m\u001b[43moperation_model\u001b[49m\u001b[43m,\u001b[49m\u001b[43m \u001b[49m\u001b[43mcontext\u001b[49m\n\u001b[32m    198\u001b[39m \u001b[43m\u001b[49m\u001b[43m)\u001b[49m\n\u001b[32m    199\u001b[39m \u001b[38;5;28;01mwhile\u001b[39;00m \u001b[38;5;28mself\u001b[39m._needs_retry(\n\u001b[32m    200\u001b[39m     attempts,\n\u001b[32m    201\u001b[39m     operation_model,\n\u001b[32m   (...)\u001b[39m\u001b[32m    204\u001b[39m     exception,\n\u001b[32m    205\u001b[39m ):\n\u001b[32m    206\u001b[39m     attempts += \u001b[32m1\u001b[39m\n",
      "\u001b[36mFile \u001b[39m\u001b[32m/opt/anaconda3/envs/3dep-aws-download/lib/python3.12/site-packages/botocore/endpoint.py:238\u001b[39m, in \u001b[36mEndpoint._get_response\u001b[39m\u001b[34m(self, request, operation_model, context)\u001b[39m\n\u001b[32m    232\u001b[39m \u001b[38;5;28;01mdef\u001b[39;00m\u001b[38;5;250m \u001b[39m\u001b[34m_get_response\u001b[39m(\u001b[38;5;28mself\u001b[39m, request, operation_model, context):\n\u001b[32m    233\u001b[39m     \u001b[38;5;66;03m# This will return a tuple of (success_response, exception)\u001b[39;00m\n\u001b[32m    234\u001b[39m     \u001b[38;5;66;03m# and success_response is itself a tuple of\u001b[39;00m\n\u001b[32m    235\u001b[39m     \u001b[38;5;66;03m# (http_response, parsed_dict).\u001b[39;00m\n\u001b[32m    236\u001b[39m     \u001b[38;5;66;03m# If an exception occurs then the success_response is None.\u001b[39;00m\n\u001b[32m    237\u001b[39m     \u001b[38;5;66;03m# If no exception occurs then exception is None.\u001b[39;00m\n\u001b[32m--> \u001b[39m\u001b[32m238\u001b[39m     success_response, exception = \u001b[38;5;28;43mself\u001b[39;49m\u001b[43m.\u001b[49m\u001b[43m_do_get_response\u001b[49m\u001b[43m(\u001b[49m\n\u001b[32m    239\u001b[39m \u001b[43m        \u001b[49m\u001b[43mrequest\u001b[49m\u001b[43m,\u001b[49m\u001b[43m \u001b[49m\u001b[43moperation_model\u001b[49m\u001b[43m,\u001b[49m\u001b[43m \u001b[49m\u001b[43mcontext\u001b[49m\n\u001b[32m    240\u001b[39m \u001b[43m    \u001b[49m\u001b[43m)\u001b[49m\n\u001b[32m    241\u001b[39m     kwargs_to_emit = {\n\u001b[32m    242\u001b[39m         \u001b[33m'\u001b[39m\u001b[33mresponse_dict\u001b[39m\u001b[33m'\u001b[39m: \u001b[38;5;28;01mNone\u001b[39;00m,\n\u001b[32m    243\u001b[39m         \u001b[33m'\u001b[39m\u001b[33mparsed_response\u001b[39m\u001b[33m'\u001b[39m: \u001b[38;5;28;01mNone\u001b[39;00m,\n\u001b[32m    244\u001b[39m         \u001b[33m'\u001b[39m\u001b[33mcontext\u001b[39m\u001b[33m'\u001b[39m: context,\n\u001b[32m    245\u001b[39m         \u001b[33m'\u001b[39m\u001b[33mexception\u001b[39m\u001b[33m'\u001b[39m: exception,\n\u001b[32m    246\u001b[39m     }\n\u001b[32m    247\u001b[39m     \u001b[38;5;28;01mif\u001b[39;00m success_response \u001b[38;5;129;01mis\u001b[39;00m \u001b[38;5;129;01mnot\u001b[39;00m \u001b[38;5;28;01mNone\u001b[39;00m:\n",
      "\u001b[36mFile \u001b[39m\u001b[32m/opt/anaconda3/envs/3dep-aws-download/lib/python3.12/site-packages/botocore/endpoint.py:278\u001b[39m, in \u001b[36mEndpoint._do_get_response\u001b[39m\u001b[34m(self, request, operation_model, context)\u001b[39m\n\u001b[32m    276\u001b[39m     http_response = first_non_none_response(responses)\n\u001b[32m    277\u001b[39m     \u001b[38;5;28;01mif\u001b[39;00m http_response \u001b[38;5;129;01mis\u001b[39;00m \u001b[38;5;28;01mNone\u001b[39;00m:\n\u001b[32m--> \u001b[39m\u001b[32m278\u001b[39m         http_response = \u001b[38;5;28;43mself\u001b[39;49m\u001b[43m.\u001b[49m\u001b[43m_send\u001b[49m\u001b[43m(\u001b[49m\u001b[43mrequest\u001b[49m\u001b[43m)\u001b[49m\n\u001b[32m    279\u001b[39m \u001b[38;5;28;01mexcept\u001b[39;00m HTTPClientError \u001b[38;5;28;01mas\u001b[39;00m e:\n\u001b[32m    280\u001b[39m     \u001b[38;5;28;01mreturn\u001b[39;00m (\u001b[38;5;28;01mNone\u001b[39;00m, e)\n",
      "\u001b[36mFile \u001b[39m\u001b[32m/opt/anaconda3/envs/3dep-aws-download/lib/python3.12/site-packages/botocore/endpoint.py:382\u001b[39m, in \u001b[36mEndpoint._send\u001b[39m\u001b[34m(self, request)\u001b[39m\n\u001b[32m    381\u001b[39m \u001b[38;5;28;01mdef\u001b[39;00m\u001b[38;5;250m \u001b[39m\u001b[34m_send\u001b[39m(\u001b[38;5;28mself\u001b[39m, request):\n\u001b[32m--> \u001b[39m\u001b[32m382\u001b[39m     \u001b[38;5;28;01mreturn\u001b[39;00m \u001b[38;5;28;43mself\u001b[39;49m\u001b[43m.\u001b[49m\u001b[43mhttp_session\u001b[49m\u001b[43m.\u001b[49m\u001b[43msend\u001b[49m\u001b[43m(\u001b[49m\u001b[43mrequest\u001b[49m\u001b[43m)\u001b[49m\n",
      "\u001b[36mFile \u001b[39m\u001b[32m/opt/anaconda3/envs/3dep-aws-download/lib/python3.12/site-packages/botocore/httpsession.py:464\u001b[39m, in \u001b[36mURLLib3Session.send\u001b[39m\u001b[34m(self, request)\u001b[39m\n\u001b[32m    461\u001b[39m     conn.proxy_headers[\u001b[33m'\u001b[39m\u001b[33mhost\u001b[39m\u001b[33m'\u001b[39m] = host\n\u001b[32m    463\u001b[39m request_target = \u001b[38;5;28mself\u001b[39m._get_request_target(request.url, proxy_url)\n\u001b[32m--> \u001b[39m\u001b[32m464\u001b[39m urllib_response = \u001b[43mconn\u001b[49m\u001b[43m.\u001b[49m\u001b[43murlopen\u001b[49m\u001b[43m(\u001b[49m\n\u001b[32m    465\u001b[39m \u001b[43m    \u001b[49m\u001b[43mmethod\u001b[49m\u001b[43m=\u001b[49m\u001b[43mrequest\u001b[49m\u001b[43m.\u001b[49m\u001b[43mmethod\u001b[49m\u001b[43m,\u001b[49m\n\u001b[32m    466\u001b[39m \u001b[43m    \u001b[49m\u001b[43murl\u001b[49m\u001b[43m=\u001b[49m\u001b[43mrequest_target\u001b[49m\u001b[43m,\u001b[49m\n\u001b[32m    467\u001b[39m \u001b[43m    \u001b[49m\u001b[43mbody\u001b[49m\u001b[43m=\u001b[49m\u001b[43mrequest\u001b[49m\u001b[43m.\u001b[49m\u001b[43mbody\u001b[49m\u001b[43m,\u001b[49m\n\u001b[32m    468\u001b[39m \u001b[43m    \u001b[49m\u001b[43mheaders\u001b[49m\u001b[43m=\u001b[49m\u001b[43mrequest\u001b[49m\u001b[43m.\u001b[49m\u001b[43mheaders\u001b[49m\u001b[43m,\u001b[49m\n\u001b[32m    469\u001b[39m \u001b[43m    \u001b[49m\u001b[43mretries\u001b[49m\u001b[43m=\u001b[49m\u001b[43mRetry\u001b[49m\u001b[43m(\u001b[49m\u001b[38;5;28;43;01mFalse\u001b[39;49;00m\u001b[43m)\u001b[49m\u001b[43m,\u001b[49m\n\u001b[32m    470\u001b[39m \u001b[43m    \u001b[49m\u001b[43massert_same_host\u001b[49m\u001b[43m=\u001b[49m\u001b[38;5;28;43;01mFalse\u001b[39;49;00m\u001b[43m,\u001b[49m\n\u001b[32m    471\u001b[39m \u001b[43m    \u001b[49m\u001b[43mpreload_content\u001b[49m\u001b[43m=\u001b[49m\u001b[38;5;28;43;01mFalse\u001b[39;49;00m\u001b[43m,\u001b[49m\n\u001b[32m    472\u001b[39m \u001b[43m    \u001b[49m\u001b[43mdecode_content\u001b[49m\u001b[43m=\u001b[49m\u001b[38;5;28;43;01mFalse\u001b[39;49;00m\u001b[43m,\u001b[49m\n\u001b[32m    473\u001b[39m \u001b[43m    \u001b[49m\u001b[43mchunked\u001b[49m\u001b[43m=\u001b[49m\u001b[38;5;28;43mself\u001b[39;49m\u001b[43m.\u001b[49m\u001b[43m_chunked\u001b[49m\u001b[43m(\u001b[49m\u001b[43mrequest\u001b[49m\u001b[43m.\u001b[49m\u001b[43mheaders\u001b[49m\u001b[43m)\u001b[49m\u001b[43m,\u001b[49m\n\u001b[32m    474\u001b[39m \u001b[43m\u001b[49m\u001b[43m)\u001b[49m\n\u001b[32m    476\u001b[39m http_response = botocore.awsrequest.AWSResponse(\n\u001b[32m    477\u001b[39m     request.url,\n\u001b[32m    478\u001b[39m     urllib_response.status,\n\u001b[32m    479\u001b[39m     urllib_response.headers,\n\u001b[32m    480\u001b[39m     urllib_response,\n\u001b[32m    481\u001b[39m )\n\u001b[32m    483\u001b[39m \u001b[38;5;28;01mif\u001b[39;00m \u001b[38;5;129;01mnot\u001b[39;00m request.stream_output:\n\u001b[32m    484\u001b[39m     \u001b[38;5;66;03m# Cause the raw stream to be exhausted immediately. We do it\u001b[39;00m\n\u001b[32m    485\u001b[39m     \u001b[38;5;66;03m# this way instead of using preload_content because\u001b[39;00m\n\u001b[32m    486\u001b[39m     \u001b[38;5;66;03m# preload_content will never buffer chunked responses\u001b[39;00m\n",
      "\u001b[36mFile \u001b[39m\u001b[32m/opt/anaconda3/envs/3dep-aws-download/lib/python3.12/site-packages/urllib3/connectionpool.py:787\u001b[39m, in \u001b[36mHTTPConnectionPool.urlopen\u001b[39m\u001b[34m(self, method, url, body, headers, retries, redirect, assert_same_host, timeout, pool_timeout, release_conn, chunked, body_pos, preload_content, decode_content, **response_kw)\u001b[39m\n\u001b[32m    784\u001b[39m response_conn = conn \u001b[38;5;28;01mif\u001b[39;00m \u001b[38;5;129;01mnot\u001b[39;00m release_conn \u001b[38;5;28;01melse\u001b[39;00m \u001b[38;5;28;01mNone\u001b[39;00m\n\u001b[32m    786\u001b[39m \u001b[38;5;66;03m# Make the request on the HTTPConnection object\u001b[39;00m\n\u001b[32m--> \u001b[39m\u001b[32m787\u001b[39m response = \u001b[38;5;28;43mself\u001b[39;49m\u001b[43m.\u001b[49m\u001b[43m_make_request\u001b[49m\u001b[43m(\u001b[49m\n\u001b[32m    788\u001b[39m \u001b[43m    \u001b[49m\u001b[43mconn\u001b[49m\u001b[43m,\u001b[49m\n\u001b[32m    789\u001b[39m \u001b[43m    \u001b[49m\u001b[43mmethod\u001b[49m\u001b[43m,\u001b[49m\n\u001b[32m    790\u001b[39m \u001b[43m    \u001b[49m\u001b[43murl\u001b[49m\u001b[43m,\u001b[49m\n\u001b[32m    791\u001b[39m \u001b[43m    \u001b[49m\u001b[43mtimeout\u001b[49m\u001b[43m=\u001b[49m\u001b[43mtimeout_obj\u001b[49m\u001b[43m,\u001b[49m\n\u001b[32m    792\u001b[39m \u001b[43m    \u001b[49m\u001b[43mbody\u001b[49m\u001b[43m=\u001b[49m\u001b[43mbody\u001b[49m\u001b[43m,\u001b[49m\n\u001b[32m    793\u001b[39m \u001b[43m    \u001b[49m\u001b[43mheaders\u001b[49m\u001b[43m=\u001b[49m\u001b[43mheaders\u001b[49m\u001b[43m,\u001b[49m\n\u001b[32m    794\u001b[39m \u001b[43m    \u001b[49m\u001b[43mchunked\u001b[49m\u001b[43m=\u001b[49m\u001b[43mchunked\u001b[49m\u001b[43m,\u001b[49m\n\u001b[32m    795\u001b[39m \u001b[43m    \u001b[49m\u001b[43mretries\u001b[49m\u001b[43m=\u001b[49m\u001b[43mretries\u001b[49m\u001b[43m,\u001b[49m\n\u001b[32m    796\u001b[39m \u001b[43m    \u001b[49m\u001b[43mresponse_conn\u001b[49m\u001b[43m=\u001b[49m\u001b[43mresponse_conn\u001b[49m\u001b[43m,\u001b[49m\n\u001b[32m    797\u001b[39m \u001b[43m    \u001b[49m\u001b[43mpreload_content\u001b[49m\u001b[43m=\u001b[49m\u001b[43mpreload_content\u001b[49m\u001b[43m,\u001b[49m\n\u001b[32m    798\u001b[39m \u001b[43m    \u001b[49m\u001b[43mdecode_content\u001b[49m\u001b[43m=\u001b[49m\u001b[43mdecode_content\u001b[49m\u001b[43m,\u001b[49m\n\u001b[32m    799\u001b[39m \u001b[43m    \u001b[49m\u001b[43m*\u001b[49m\u001b[43m*\u001b[49m\u001b[43mresponse_kw\u001b[49m\u001b[43m,\u001b[49m\n\u001b[32m    800\u001b[39m \u001b[43m\u001b[49m\u001b[43m)\u001b[49m\n\u001b[32m    802\u001b[39m \u001b[38;5;66;03m# Everything went great!\u001b[39;00m\n\u001b[32m    803\u001b[39m clean_exit = \u001b[38;5;28;01mTrue\u001b[39;00m\n",
      "\u001b[36mFile \u001b[39m\u001b[32m/opt/anaconda3/envs/3dep-aws-download/lib/python3.12/site-packages/urllib3/connectionpool.py:534\u001b[39m, in \u001b[36mHTTPConnectionPool._make_request\u001b[39m\u001b[34m(self, conn, method, url, body, headers, retries, timeout, chunked, response_conn, preload_content, decode_content, enforce_content_length)\u001b[39m\n\u001b[32m    532\u001b[39m \u001b[38;5;66;03m# Receive the response from the server\u001b[39;00m\n\u001b[32m    533\u001b[39m \u001b[38;5;28;01mtry\u001b[39;00m:\n\u001b[32m--> \u001b[39m\u001b[32m534\u001b[39m     response = \u001b[43mconn\u001b[49m\u001b[43m.\u001b[49m\u001b[43mgetresponse\u001b[49m\u001b[43m(\u001b[49m\u001b[43m)\u001b[49m\n\u001b[32m    535\u001b[39m \u001b[38;5;28;01mexcept\u001b[39;00m (BaseSSLError, \u001b[38;5;167;01mOSError\u001b[39;00m) \u001b[38;5;28;01mas\u001b[39;00m e:\n\u001b[32m    536\u001b[39m     \u001b[38;5;28mself\u001b[39m._raise_timeout(err=e, url=url, timeout_value=read_timeout)\n",
      "\u001b[36mFile \u001b[39m\u001b[32m/opt/anaconda3/envs/3dep-aws-download/lib/python3.12/site-packages/urllib3/connection.py:565\u001b[39m, in \u001b[36mHTTPConnection.getresponse\u001b[39m\u001b[34m(self)\u001b[39m\n\u001b[32m    562\u001b[39m _shutdown = \u001b[38;5;28mgetattr\u001b[39m(\u001b[38;5;28mself\u001b[39m.sock, \u001b[33m\"\u001b[39m\u001b[33mshutdown\u001b[39m\u001b[33m\"\u001b[39m, \u001b[38;5;28;01mNone\u001b[39;00m)\n\u001b[32m    564\u001b[39m \u001b[38;5;66;03m# Get the response from http.client.HTTPConnection\u001b[39;00m\n\u001b[32m--> \u001b[39m\u001b[32m565\u001b[39m httplib_response = \u001b[38;5;28;43msuper\u001b[39;49m\u001b[43m(\u001b[49m\u001b[43m)\u001b[49m\u001b[43m.\u001b[49m\u001b[43mgetresponse\u001b[49m\u001b[43m(\u001b[49m\u001b[43m)\u001b[49m\n\u001b[32m    567\u001b[39m \u001b[38;5;28;01mtry\u001b[39;00m:\n\u001b[32m    568\u001b[39m     assert_header_parsing(httplib_response.msg)\n",
      "\u001b[36mFile \u001b[39m\u001b[32m/opt/anaconda3/envs/3dep-aws-download/lib/python3.12/http/client.py:1430\u001b[39m, in \u001b[36mHTTPConnection.getresponse\u001b[39m\u001b[34m(self)\u001b[39m\n\u001b[32m   1428\u001b[39m \u001b[38;5;28;01mtry\u001b[39;00m:\n\u001b[32m   1429\u001b[39m     \u001b[38;5;28;01mtry\u001b[39;00m:\n\u001b[32m-> \u001b[39m\u001b[32m1430\u001b[39m         \u001b[43mresponse\u001b[49m\u001b[43m.\u001b[49m\u001b[43mbegin\u001b[49m\u001b[43m(\u001b[49m\u001b[43m)\u001b[49m\n\u001b[32m   1431\u001b[39m     \u001b[38;5;28;01mexcept\u001b[39;00m \u001b[38;5;167;01mConnectionError\u001b[39;00m:\n\u001b[32m   1432\u001b[39m         \u001b[38;5;28mself\u001b[39m.close()\n",
      "\u001b[36mFile \u001b[39m\u001b[32m/opt/anaconda3/envs/3dep-aws-download/lib/python3.12/http/client.py:331\u001b[39m, in \u001b[36mHTTPResponse.begin\u001b[39m\u001b[34m(self)\u001b[39m\n\u001b[32m    329\u001b[39m \u001b[38;5;66;03m# read until we get a non-100 response\u001b[39;00m\n\u001b[32m    330\u001b[39m \u001b[38;5;28;01mwhile\u001b[39;00m \u001b[38;5;28;01mTrue\u001b[39;00m:\n\u001b[32m--> \u001b[39m\u001b[32m331\u001b[39m     version, status, reason = \u001b[38;5;28;43mself\u001b[39;49m\u001b[43m.\u001b[49m\u001b[43m_read_status\u001b[49m\u001b[43m(\u001b[49m\u001b[43m)\u001b[49m\n\u001b[32m    332\u001b[39m     \u001b[38;5;28;01mif\u001b[39;00m status != CONTINUE:\n\u001b[32m    333\u001b[39m         \u001b[38;5;28;01mbreak\u001b[39;00m\n",
      "\u001b[36mFile \u001b[39m\u001b[32m/opt/anaconda3/envs/3dep-aws-download/lib/python3.12/http/client.py:292\u001b[39m, in \u001b[36mHTTPResponse._read_status\u001b[39m\u001b[34m(self)\u001b[39m\n\u001b[32m    291\u001b[39m \u001b[38;5;28;01mdef\u001b[39;00m\u001b[38;5;250m \u001b[39m\u001b[34m_read_status\u001b[39m(\u001b[38;5;28mself\u001b[39m):\n\u001b[32m--> \u001b[39m\u001b[32m292\u001b[39m     line = \u001b[38;5;28mstr\u001b[39m(\u001b[38;5;28;43mself\u001b[39;49m\u001b[43m.\u001b[49m\u001b[43mfp\u001b[49m\u001b[43m.\u001b[49m\u001b[43mreadline\u001b[49m\u001b[43m(\u001b[49m\u001b[43m_MAXLINE\u001b[49m\u001b[43m \u001b[49m\u001b[43m+\u001b[49m\u001b[43m \u001b[49m\u001b[32;43m1\u001b[39;49m\u001b[43m)\u001b[49m, \u001b[33m\"\u001b[39m\u001b[33miso-8859-1\u001b[39m\u001b[33m\"\u001b[39m)\n\u001b[32m    293\u001b[39m     \u001b[38;5;28;01mif\u001b[39;00m \u001b[38;5;28mlen\u001b[39m(line) > _MAXLINE:\n\u001b[32m    294\u001b[39m         \u001b[38;5;28;01mraise\u001b[39;00m LineTooLong(\u001b[33m\"\u001b[39m\u001b[33mstatus line\u001b[39m\u001b[33m\"\u001b[39m)\n",
      "\u001b[36mFile \u001b[39m\u001b[32m/opt/anaconda3/envs/3dep-aws-download/lib/python3.12/socket.py:720\u001b[39m, in \u001b[36mSocketIO.readinto\u001b[39m\u001b[34m(self, b)\u001b[39m\n\u001b[32m    718\u001b[39m \u001b[38;5;28;01mwhile\u001b[39;00m \u001b[38;5;28;01mTrue\u001b[39;00m:\n\u001b[32m    719\u001b[39m     \u001b[38;5;28;01mtry\u001b[39;00m:\n\u001b[32m--> \u001b[39m\u001b[32m720\u001b[39m         \u001b[38;5;28;01mreturn\u001b[39;00m \u001b[38;5;28;43mself\u001b[39;49m\u001b[43m.\u001b[49m\u001b[43m_sock\u001b[49m\u001b[43m.\u001b[49m\u001b[43mrecv_into\u001b[49m\u001b[43m(\u001b[49m\u001b[43mb\u001b[49m\u001b[43m)\u001b[49m\n\u001b[32m    721\u001b[39m     \u001b[38;5;28;01mexcept\u001b[39;00m timeout:\n\u001b[32m    722\u001b[39m         \u001b[38;5;28mself\u001b[39m._timeout_occurred = \u001b[38;5;28;01mTrue\u001b[39;00m\n",
      "\u001b[36mFile \u001b[39m\u001b[32m/opt/anaconda3/envs/3dep-aws-download/lib/python3.12/ssl.py:1251\u001b[39m, in \u001b[36mSSLSocket.recv_into\u001b[39m\u001b[34m(self, buffer, nbytes, flags)\u001b[39m\n\u001b[32m   1247\u001b[39m     \u001b[38;5;28;01mif\u001b[39;00m flags != \u001b[32m0\u001b[39m:\n\u001b[32m   1248\u001b[39m         \u001b[38;5;28;01mraise\u001b[39;00m \u001b[38;5;167;01mValueError\u001b[39;00m(\n\u001b[32m   1249\u001b[39m           \u001b[33m\"\u001b[39m\u001b[33mnon-zero flags not allowed in calls to recv_into() on \u001b[39m\u001b[38;5;132;01m%s\u001b[39;00m\u001b[33m\"\u001b[39m %\n\u001b[32m   1250\u001b[39m           \u001b[38;5;28mself\u001b[39m.\u001b[34m__class__\u001b[39m)\n\u001b[32m-> \u001b[39m\u001b[32m1251\u001b[39m     \u001b[38;5;28;01mreturn\u001b[39;00m \u001b[38;5;28;43mself\u001b[39;49m\u001b[43m.\u001b[49m\u001b[43mread\u001b[49m\u001b[43m(\u001b[49m\u001b[43mnbytes\u001b[49m\u001b[43m,\u001b[49m\u001b[43m \u001b[49m\u001b[43mbuffer\u001b[49m\u001b[43m)\u001b[49m\n\u001b[32m   1252\u001b[39m \u001b[38;5;28;01melse\u001b[39;00m:\n\u001b[32m   1253\u001b[39m     \u001b[38;5;28;01mreturn\u001b[39;00m \u001b[38;5;28msuper\u001b[39m().recv_into(buffer, nbytes, flags)\n",
      "\u001b[36mFile \u001b[39m\u001b[32m/opt/anaconda3/envs/3dep-aws-download/lib/python3.12/ssl.py:1103\u001b[39m, in \u001b[36mSSLSocket.read\u001b[39m\u001b[34m(self, len, buffer)\u001b[39m\n\u001b[32m   1101\u001b[39m \u001b[38;5;28;01mtry\u001b[39;00m:\n\u001b[32m   1102\u001b[39m     \u001b[38;5;28;01mif\u001b[39;00m buffer \u001b[38;5;129;01mis\u001b[39;00m \u001b[38;5;129;01mnot\u001b[39;00m \u001b[38;5;28;01mNone\u001b[39;00m:\n\u001b[32m-> \u001b[39m\u001b[32m1103\u001b[39m         \u001b[38;5;28;01mreturn\u001b[39;00m \u001b[38;5;28;43mself\u001b[39;49m\u001b[43m.\u001b[49m\u001b[43m_sslobj\u001b[49m\u001b[43m.\u001b[49m\u001b[43mread\u001b[49m\u001b[43m(\u001b[49m\u001b[38;5;28;43mlen\u001b[39;49m\u001b[43m,\u001b[49m\u001b[43m \u001b[49m\u001b[43mbuffer\u001b[49m\u001b[43m)\u001b[49m\n\u001b[32m   1104\u001b[39m     \u001b[38;5;28;01melse\u001b[39;00m:\n\u001b[32m   1105\u001b[39m         \u001b[38;5;28;01mreturn\u001b[39;00m \u001b[38;5;28mself\u001b[39m._sslobj.read(\u001b[38;5;28mlen\u001b[39m)\n",
      "\u001b[31mKeyboardInterrupt\u001b[39m: "
     ]
    }
   ],
   "source": [
    "# initialize an empty list\n",
    "keys = []\n",
    "\n",
    "# paginator walks through every page of the S3 “list_objects_v2” result\n",
    "pfx = f\"{PREFIX}/ept-data/\"\n",
    "for page in s3.get_paginator(\"list_objects_v2\").paginate(\n",
    "    Bucket=BUCKET,\n",
    "    Prefix=pfx\n",
    "):\n",
    "    for obj in page.get(\"Contents\", []):\n",
    "        k = obj[\"Key\"]           # e.g. \"CA_SaltonSea_EarthMRI_3_D21/ept-data/4-12-34-8.laz\"\n",
    "        if k.endswith(\".laz\"):    # filter to only the LAZ tiles\n",
    "            keys.append(k)\n",
    "\n",
    "print(f\"Found {len(keys)} .laz tiles\")"
   ]
  },
  {
   "cell_type": "code",
   "execution_count": null,
   "id": "f3e25436",
   "metadata": {},
   "outputs": [],
   "source": [
    "https://s3-us-west-2.amazonaws.com/usgs-lidar-public/{PREFIX}/ept.json"
   ]
  },
  {
   "cell_type": "code",
   "execution_count": 31,
   "id": "20276ed2",
   "metadata": {},
   "outputs": [
    {
     "ename": "KeyError",
     "evalue": "'nodeSize'",
     "output_type": "error",
     "traceback": [
      "\u001b[31m---------------------------------------------------------------------------\u001b[39m",
      "\u001b[31mKeyError\u001b[39m                                  Traceback (most recent call last)",
      "\u001b[36mCell\u001b[39m\u001b[36m \u001b[39m\u001b[32mIn[31]\u001b[39m\u001b[32m, line 1\u001b[39m\n\u001b[32m----> \u001b[39m\u001b[32m1\u001b[39m \u001b[43mmeta\u001b[49m\u001b[43m[\u001b[49m\u001b[33;43m\"\u001b[39;49m\u001b[33;43mnodeSize\u001b[39;49m\u001b[33;43m\"\u001b[39;49m\u001b[43m]\u001b[49m\n",
      "\u001b[31mKeyError\u001b[39m: 'nodeSize'"
     ]
    }
   ],
   "source": [
    "meta[\"nodeSize\"]"
   ]
  },
  {
   "cell_type": "code",
   "execution_count": 29,
   "id": "e263506e",
   "metadata": {},
   "outputs": [
    {
     "data": {
      "text/plain": [
       "'json'"
      ]
     },
     "execution_count": 29,
     "metadata": {},
     "output_type": "execute_result"
    }
   ],
   "source": [
    "hierarchy_type"
   ]
  },
  {
   "cell_type": "markdown",
   "id": "e2e32903",
   "metadata": {},
   "source": [
    "## 3. List every node file under `ept-data/`"
   ]
  },
  {
   "cell_type": "code",
   "execution_count": null,
   "id": "e5f459c2",
   "metadata": {},
   "outputs": [],
   "source": [
    "s3 = boto3.client(\"s3\", config=boto3.session.Config(signature_version=\"unsigned\"))\n",
    "pfx = f\"{PREFIX}/ept-data/\"\n",
    "keys = []\n",
    "for page in s3.get_paginator(\"list_objects_v2\").paginate(\n",
    "    Bucket=BUCKET, Prefix=pfx\n",
    "):\n",
    "    for obj in page.get(\"Contents\", []):\n",
    "        k = obj[\"Key\"]\n",
    "        if k.endswith(\".laz\"):\n",
    "            keys.append(k)\n",
    "\n",
    "print(f\"Found {len(keys)} .laz tiles in ept-data/\")"
   ]
  },
  {
   "cell_type": "markdown",
   "id": "97f5deb9",
   "metadata": {},
   "source": [
    "## 4. Parse each key into (d,x,y,_) and filter by region"
   ]
  },
  {
   "cell_type": "code",
   "execution_count": null,
   "id": "5107bfc8",
   "metadata": {},
   "outputs": [],
   "source": [
    "to_download = []\n",
    "for key in tqdm(keys):\n",
    "    # key looks like: \"<PREFIX>/ept-data/D-X-Y-Z.laz\"\n",
    "    leaf = os.path.basename(key).replace(\".laz\",\"\")\n",
    "    d, x, y, z = map(int, leaf.split(\"-\"))\n",
    "    # compute this tile's 2D footprint\n",
    "    tile_w = (maxx - minx) / (2 ** d)\n",
    "    tile_h = (maxy - miny) / (2 ** d)\n",
    "    tx0 = minx + x * tile_w\n",
    "    ty0 = miny + y * tile_h\n",
    "    tx1 = tx0 + tile_w\n",
    "    ty1 = ty0 + tile_h\n",
    "    tile_geom = box(tx0, ty0, tx1, ty1)\n",
    "    if region.intersects(tile_geom):\n",
    "        to_download.append(key)\n",
    "\n",
    "print(f\"{len(to_download)} tiles intersect your region\")"
   ]
  },
  {
   "cell_type": "markdown",
   "id": "f8285db5",
   "metadata": {},
   "source": [
    "## 5. Write out the full S3 paths"
   ]
  },
  {
   "cell_type": "code",
   "execution_count": null,
   "id": "65fef498",
   "metadata": {},
   "outputs": [],
   "source": [
    "with open(OUTPUT_LIST, \"w\") as f:\n",
    "    for key in sorted(to_download):\n",
    "        f.write(f\"s3://{BUCKET}/{key}\\n\")\n",
    "\n",
    "print(f\"Wrote node list → {OUTPUT_LIST}\")"
   ]
  }
 ],
 "metadata": {
  "kernelspec": {
   "display_name": "3dep-aws-download",
   "language": "python",
   "name": "python3"
  },
  "language_info": {
   "codemirror_mode": {
    "name": "ipython",
    "version": 3
   },
   "file_extension": ".py",
   "mimetype": "text/x-python",
   "name": "python",
   "nbconvert_exporter": "python",
   "pygments_lexer": "ipython3",
   "version": "3.12.11"
  }
 },
 "nbformat": 4,
 "nbformat_minor": 5
}
